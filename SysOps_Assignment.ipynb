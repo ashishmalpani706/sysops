{
 "cells": [
  {
   "cell_type": "code",
   "execution_count": 86,
   "metadata": {},
   "outputs": [
    {
     "name": "stdout",
     "output_type": "stream",
     "text": [
      "ip-172-31-37-82.us-east-2.compute.internal\n",
      "mtime=2018-04-11 02:02:48.305593868 +0000|ctime=2018-04-11 02:02:48.305593868 +0000|atime=2018-04-11 01:52:49.758862963 +0000\n"
     ]
    }
   ],
   "source": [
    "import paramiko\n",
    "key_fname='assignmentKeyPair.pem'\n",
    "with open(\"hostnames.txt\") as f:\n",
    "    for line in f:\n",
    "        arr=line.split()\n",
    "        uname=arr[0]\n",
    "        ip=arr[1]\n",
    "        ssh = paramiko.SSHClient()\n",
    "        ssh.set_missing_host_key_policy(paramiko.AutoAddPolicy())\n",
    "        ssh.connect(ip, username=uname, key_filename=key_fname)\n",
    "        stdin, stdout, stderr = ssh.exec_command('hostname')\n",
    "        hostname=stdout.readlines()[0].rstrip()\n",
    "        print (hostname)\n",
    "        stdin, stdout, stderr = ssh.exec_command('stat --format=mtime=%y\\|ctime=%z\\|atime=%x ~/.ssh/authorized_keys')\n",
    "        stats = stdout.readlines()[0].rstrip()\n",
    "        print(stats)\n",
    "        sftp = ssh.open_sftp()\n",
    "        path='/home/'+uname+'/.ssh/authorized_keys'\n",
    "        sftp.put('newkey.pub',path)\n",
    "        stdin, stdout, stderr = ssh.exec_command('cat '+path)\n",
    "        content = stdout.readlines()[0].rstrip()\n",
    "        with open('output.csv','a') as f1:\n",
    "            writer=csv.writer(f1)\n",
    "            writer.writerow([hostname,ip,stats,content])"
   ]
  },
  {
   "cell_type": "code",
   "execution_count": null,
   "metadata": {
    "collapsed": true
   },
   "outputs": [],
   "source": []
  }
 ],
 "metadata": {
  "kernelspec": {
   "display_name": "Python 3",
   "language": "python",
   "name": "python3"
  },
  "language_info": {
   "codemirror_mode": {
    "name": "ipython",
    "version": 3
   },
   "file_extension": ".py",
   "mimetype": "text/x-python",
   "name": "python",
   "nbconvert_exporter": "python",
   "pygments_lexer": "ipython3",
   "version": "3.6.1"
  }
 },
 "nbformat": 4,
 "nbformat_minor": 2
}
